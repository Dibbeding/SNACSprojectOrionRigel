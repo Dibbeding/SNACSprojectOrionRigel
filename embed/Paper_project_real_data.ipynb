{
 "cells": [
  {
   "cell_type": "markdown",
   "id": "331f3693",
   "metadata": {},
   "source": [
    "## Import dataset\n",
    "#### basic metrics calculation"
   ]
  },
  {
   "cell_type": "code",
   "execution_count": 2,
   "id": "f6e74db3",
   "metadata": {},
   "outputs": [],
   "source": [
    "# imports\n",
    "\n",
    "import pandas as pd\n",
    "import numpy as np\n",
    "import networkx as nx\n",
    "from random import sample\n",
    "import time"
   ]
  },
  {
   "cell_type": "code",
   "execution_count": null,
   "id": "db8cfe66",
   "metadata": {},
   "outputs": [],
   "source": []
  },
  {
   "cell_type": "code",
   "execution_count": 3,
   "id": "cd6e0c7e",
   "metadata": {},
   "outputs": [
    {
     "data": {
      "text/html": [
       "<div>\n",
       "<style scoped>\n",
       "    .dataframe tbody tr th:only-of-type {\n",
       "        vertical-align: middle;\n",
       "    }\n",
       "\n",
       "    .dataframe tbody tr th {\n",
       "        vertical-align: top;\n",
       "    }\n",
       "\n",
       "    .dataframe thead th {\n",
       "        text-align: right;\n",
       "    }\n",
       "</style>\n",
       "<table border=\"1\" class=\"dataframe\">\n",
       "  <thead>\n",
       "    <tr style=\"text-align: right;\">\n",
       "      <th></th>\n",
       "      <th>node_1</th>\n",
       "      <th>node_2</th>\n",
       "    </tr>\n",
       "  </thead>\n",
       "  <tbody>\n",
       "    <tr>\n",
       "      <th>0</th>\n",
       "      <td>0</td>\n",
       "      <td>24208</td>\n",
       "    </tr>\n",
       "    <tr>\n",
       "      <th>1</th>\n",
       "      <td>0</td>\n",
       "      <td>24445</td>\n",
       "    </tr>\n",
       "    <tr>\n",
       "      <th>2</th>\n",
       "      <td>0</td>\n",
       "      <td>18055</td>\n",
       "    </tr>\n",
       "    <tr>\n",
       "      <th>3</th>\n",
       "      <td>0</td>\n",
       "      <td>26575</td>\n",
       "    </tr>\n",
       "    <tr>\n",
       "      <th>4</th>\n",
       "      <td>0</td>\n",
       "      <td>12596</td>\n",
       "    </tr>\n",
       "  </tbody>\n",
       "</table>\n",
       "</div>"
      ],
      "text/plain": [
       "   node_1  node_2\n",
       "0       0   24208\n",
       "1       0   24445\n",
       "2       0   18055\n",
       "3       0   26575\n",
       "4       0   12596"
      ]
     },
     "execution_count": 3,
     "metadata": {},
     "output_type": "execute_result"
    }
   ],
   "source": [
    "# load dataset (reddit social graph)\n",
    "dataset = 'HU_edges.csv' #'large_twitch_edges.csv'\n",
    "\n",
    "data = pd.read_csv(dataset, header = 0, sep = ',') \n",
    "data = data[[data.columns[0], data.columns[1]]]\n",
    "data.head()"
   ]
  },
  {
   "cell_type": "code",
   "execution_count": 4,
   "id": "6fb8959e",
   "metadata": {},
   "outputs": [],
   "source": [
    "# Make networkx graph object\n",
    "\n",
    "graph = nx.from_pandas_edgelist(data, data.columns[0], data.columns[1])\n",
    "#graph_directed = nx.from_pandas_edgelist(data, data.columns[0], data.columns[1], create_using = nx.DiGraph)"
   ]
  },
  {
   "cell_type": "code",
   "execution_count": 5,
   "id": "b7f2dabf",
   "metadata": {},
   "outputs": [
    {
     "name": "stdout",
     "output_type": "stream",
     "text": [
      "Number of nodes:  47538\n",
      "Number of edges:  222887\n"
     ]
    }
   ],
   "source": [
    "# graph properties\n",
    "\n",
    "print('Number of nodes: ', graph.number_of_nodes())\n",
    "print('Number of edges: ', graph.number_of_edges())"
   ]
  },
  {
   "cell_type": "code",
   "execution_count": 6,
   "id": "b9011202",
   "metadata": {},
   "outputs": [
    {
     "name": "stdout",
     "output_type": "stream",
     "text": [
      "Number of largest connected components:  1\n",
      "Number of nodes in giant component:  47538\n"
     ]
    }
   ],
   "source": [
    "# Giant component\n",
    "Gcc = sorted(nx.connected_components(graph), key=len, reverse=True)\n",
    "print('Number of largest connected components: ', len(Gcc))\n",
    "\n",
    "giant = graph.subgraph(Gcc[0])\n",
    "print('Number of nodes in giant component: ', giant.number_of_nodes())"
   ]
  },
  {
   "cell_type": "code",
   "execution_count": 6,
   "id": "c9715f1e",
   "metadata": {},
   "outputs": [],
   "source": [
    "data_undi = data.drop_duplicates()"
   ]
  },
  {
   "cell_type": "code",
   "execution_count": 70,
   "id": "728710a7",
   "metadata": {},
   "outputs": [
    {
     "name": "stdout",
     "output_type": "stream",
     "text": [
      "Average Clustering coefficient:  0.18090101843790804\n"
     ]
    }
   ],
   "source": [
    "print('Average Clustering coefficient: ', nx.average_clustering(graph))"
   ]
  },
  {
   "cell_type": "code",
   "execution_count": 7,
   "id": "3f1f7f66",
   "metadata": {},
   "outputs": [
    {
     "name": "stdout",
     "output_type": "stream",
     "text": [
      "landmark  43741  finished in 0.48421454429626465 seconds \n",
      "landmark  23411  finished in 1.063673973083496 seconds \n",
      "landmark  37280  finished in 1.6541101932525635 seconds \n",
      "landmark  29027  finished in 2.2139697074890137 seconds \n",
      "landmark  11934  finished in 2.779066801071167 seconds \n",
      "landmark  41821  finished in 3.380887031555176 seconds \n",
      "landmark  24882  finished in 3.926957130432129 seconds \n",
      "landmark  9825  finished in 4.444339990615845 seconds \n",
      "landmark  30631  finished in 4.962022066116333 seconds \n",
      "landmark  17220  finished in 5.494752407073975 seconds \n",
      "landmark  24741  finished in 6.028928756713867 seconds \n",
      "landmark  2095  finished in 6.5310869216918945 seconds \n",
      "landmark  37678  finished in 7.078580379486084 seconds \n",
      "landmark  22618  finished in 7.610554456710815 seconds \n",
      "landmark  33000  finished in 8.111961364746094 seconds \n",
      "landmark  6021  finished in 8.682451963424683 seconds \n",
      "landmark  4490  finished in 9.340370893478394 seconds \n",
      "landmark  13622  finished in 9.952441215515137 seconds \n",
      "landmark  438  finished in 10.547908306121826 seconds \n",
      "landmark  1936  finished in 11.093880653381348 seconds \n",
      "landmark  8555  finished in 11.605746984481812 seconds \n",
      "landmark  28068  finished in 12.125205993652344 seconds \n",
      "landmark  5256  finished in 12.67174744606018 seconds \n",
      "landmark  10569  finished in 13.172781705856323 seconds \n",
      "landmark  46804  finished in 13.686332702636719 seconds \n",
      "landmark  22325  finished in 14.222254276275635 seconds \n",
      "landmark  35267  finished in 14.74655818939209 seconds \n",
      "landmark  15253  finished in 15.321178436279297 seconds \n",
      "landmark  29607  finished in 15.938476085662842 seconds \n",
      "landmark  29534  finished in 16.515665531158447 seconds \n",
      "landmark  15006  finished in 17.093525648117065 seconds \n",
      "landmark  583  finished in 17.607975959777832 seconds \n",
      "landmark  10708  finished in 18.13387155532837 seconds \n",
      "landmark  34635  finished in 18.6730535030365 seconds \n",
      "landmark  26294  finished in 19.270074605941772 seconds \n",
      "landmark  8171  finished in 19.82609272003174 seconds \n",
      "landmark  40926  finished in 20.35426115989685 seconds \n",
      "landmark  25677  finished in 20.934661865234375 seconds \n",
      "landmark  43053  finished in 21.503961324691772 seconds \n",
      "landmark  20795  finished in 22.072054147720337 seconds \n",
      "landmark  13769  finished in 22.630780696868896 seconds \n",
      "landmark  36865  finished in 23.228399753570557 seconds \n",
      "landmark  45173  finished in 23.761008501052856 seconds \n",
      "landmark  20421  finished in 24.318572998046875 seconds \n",
      "landmark  16999  finished in 24.933470964431763 seconds \n",
      "landmark  32419  finished in 25.522294282913208 seconds \n",
      "landmark  6800  finished in 26.040630102157593 seconds \n",
      "landmark  13688  finished in 26.557026624679565 seconds \n",
      "landmark  45773  finished in 27.07732915878296 seconds \n",
      "landmark  9352  finished in 27.59098172187805 seconds \n",
      "landmark  3929  finished in 28.09365153312683 seconds \n",
      "landmark  41163  finished in 28.61971163749695 seconds \n",
      "landmark  40285  finished in 29.188946962356567 seconds \n",
      "landmark  27045  finished in 29.770121335983276 seconds \n",
      "landmark  39780  finished in 30.311692714691162 seconds \n",
      "landmark  19112  finished in 30.91814422607422 seconds \n",
      "landmark  35288  finished in 31.472907543182373 seconds \n",
      "landmark  34832  finished in 32.05150532722473 seconds \n",
      "landmark  34916  finished in 32.6375367641449 seconds \n",
      "landmark  31268  finished in 33.217899799346924 seconds \n",
      "landmark  9670  finished in 33.752787351608276 seconds \n",
      "landmark  34131  finished in 34.301515340805054 seconds \n",
      "landmark  41278  finished in 34.90193843841553 seconds \n",
      "landmark  12117  finished in 35.497660636901855 seconds \n",
      "landmark  29245  finished in 36.03615880012512 seconds \n",
      "landmark  28033  finished in 36.585408210754395 seconds \n",
      "landmark  45403  finished in 37.12387275695801 seconds \n",
      "landmark  24601  finished in 37.65332341194153 seconds \n",
      "landmark  22335  finished in 38.17077088356018 seconds \n",
      "landmark  240  finished in 38.686887979507446 seconds \n",
      "landmark  23578  finished in 39.21124863624573 seconds \n",
      "landmark  21494  finished in 39.73749399185181 seconds \n",
      "landmark  40095  finished in 40.25429368019104 seconds \n",
      "landmark  45880  finished in 40.78580331802368 seconds \n",
      "landmark  34113  finished in 41.34808826446533 seconds \n",
      "landmark  16018  finished in 41.91645574569702 seconds \n",
      "landmark  30073  finished in 42.51528787612915 seconds \n",
      "landmark  16292  finished in 43.09537386894226 seconds \n",
      "landmark  28983  finished in 43.66541814804077 seconds \n",
      "landmark  34227  finished in 44.2614803314209 seconds \n",
      "landmark  46335  finished in 44.84012174606323 seconds \n",
      "landmark  32707  finished in 45.414082288742065 seconds \n",
      "landmark  29622  finished in 46.01188397407532 seconds \n",
      "landmark  13631  finished in 46.583657026290894 seconds \n",
      "landmark  25040  finished in 47.20706224441528 seconds \n",
      "landmark  44278  finished in 47.72929000854492 seconds \n",
      "landmark  29492  finished in 48.25304412841797 seconds \n",
      "landmark  31362  finished in 48.771568059921265 seconds \n",
      "landmark  38176  finished in 49.29385423660278 seconds \n",
      "landmark  46278  finished in 49.81577706336975 seconds \n",
      "landmark  45441  finished in 50.33046889305115 seconds \n",
      "landmark  2600  finished in 50.92672872543335 seconds \n",
      "landmark  23911  finished in 51.49971318244934 seconds \n",
      "landmark  18221  finished in 52.0286180973053 seconds \n",
      "landmark  37767  finished in 52.54837203025818 seconds \n",
      "landmark  26883  finished in 53.08061909675598 seconds \n",
      "landmark  22098  finished in 53.59867858886719 seconds \n",
      "landmark  9021  finished in 54.128843545913696 seconds \n",
      "landmark  13362  finished in 54.66187000274658 seconds \n",
      "landmark  46890  finished in 55.18134808540344 seconds \n"
     ]
    }
   ],
   "source": [
    "# input preparation for Rigel\n",
    "np.random.seed(1337)\n",
    "nodes = list(giant.nodes())\n",
    "N = len(nodes)\n",
    "landmark_cnt = 100\n",
    "landmarks = sample(nodes, landmark_cnt)  #here a landmark selection strategy could be introduced\n",
    "landmark_indices = [nodes.index(lm) for lm in landmarks]\n",
    "distance_matrix = {j:dict() for j in landmarks}\n",
    "#distance_matrix = dict()\n",
    "start_time = time.time()\n",
    "for i in landmarks:\n",
    "    #distance_matrix[i] = dict()\n",
    "    #print('landmark ', i, ' calculating...')\n",
    "    path_lengths = nx.single_source_shortest_path_length(giant, i)\n",
    "    for j in nodes:\n",
    "        distance_matrix[i][j] = int(path_lengths[j])\n",
    "    print(\"landmark \", i,\" finished in %s seconds \" % (time.time() - start_time))"
   ]
  },
  {
   "cell_type": "code",
   "execution_count": 8,
   "id": "2f8bf154",
   "metadata": {},
   "outputs": [],
   "source": [
    "with open('l_deezer.txt', 'w') as f:\n",
    "    for i in distance_matrix.keys():\n",
    "        nested_list = [str(j) for j in list(distance_matrix[i].values())]\n",
    "        f.writelines('\\t'.join(nested_list) + '\\n')\n",
    "f.close()"
   ]
  },
  {
   "cell_type": "code",
   "execution_count": 9,
   "id": "9f06d84c",
   "metadata": {},
   "outputs": [],
   "source": [
    "with open('r_deezer.txt', 'w') as f:\n",
    "    for node in landmark_indices:\n",
    "        f.write('%s\\n' % node)\n",
    "f.close()"
   ]
  },
  {
   "cell_type": "code",
   "execution_count": 10,
   "id": "a9d52ec3",
   "metadata": {},
   "outputs": [],
   "source": [
    "with open('0_deezer.ord', 'w') as f:\n",
    "    for i in range(N):\n",
    "        if not i in landmark_indices:\n",
    "            f.write('%s\\n' % i)\n",
    "f.close()"
   ]
  },
  {
   "cell_type": "code",
   "execution_count": 11,
   "id": "3156033c",
   "metadata": {},
   "outputs": [
    {
     "data": {
      "text/plain": [
       "47538"
      ]
     },
     "execution_count": 11,
     "metadata": {},
     "output_type": "execute_result"
    }
   ],
   "source": [
    "len(nodes)"
   ]
  },
  {
   "cell_type": "code",
   "execution_count": null,
   "id": "e9a209f0",
   "metadata": {},
   "outputs": [],
   "source": []
  },
  {
   "cell_type": "code",
   "execution_count": null,
   "id": "21716dac",
   "metadata": {},
   "outputs": [],
   "source": []
  },
  {
   "cell_type": "code",
   "execution_count": null,
   "id": "e3f8dedb",
   "metadata": {},
   "outputs": [],
   "source": []
  },
  {
   "cell_type": "code",
   "execution_count": null,
   "id": "f88d15bc",
   "metadata": {},
   "outputs": [],
   "source": []
  },
  {
   "cell_type": "code",
   "execution_count": null,
   "id": "b4bf2dbf",
   "metadata": {},
   "outputs": [],
   "source": []
  },
  {
   "cell_type": "code",
   "execution_count": null,
   "id": "0503120f",
   "metadata": {},
   "outputs": [],
   "source": []
  }
 ],
 "metadata": {
  "kernelspec": {
   "display_name": "Python 3 (ipykernel)",
   "language": "python",
   "name": "python3"
  },
  "language_info": {
   "codemirror_mode": {
    "name": "ipython",
    "version": 3
   },
   "file_extension": ".py",
   "mimetype": "text/x-python",
   "name": "python",
   "nbconvert_exporter": "python",
   "pygments_lexer": "ipython3",
   "version": "3.7.10"
  }
 },
 "nbformat": 4,
 "nbformat_minor": 5
}
