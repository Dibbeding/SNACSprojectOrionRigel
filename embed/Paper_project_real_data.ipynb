{
 "cells": [
  {
   "cell_type": "markdown",
   "id": "331f3693",
   "metadata": {},
   "source": [
    "## Import dataset\n",
    "#### basic metrics calculation"
   ]
  },
  {
   "cell_type": "code",
   "execution_count": 12,
   "id": "f6e74db3",
   "metadata": {},
   "outputs": [],
   "source": [
    "# imports\n",
    "\n",
    "import pandas as pd\n",
    "import numpy as np\n",
    "import networkx as nx\n",
    "from random import sample\n",
    "import time"
   ]
  },
  {
   "cell_type": "code",
   "execution_count": null,
   "id": "db8cfe66",
   "metadata": {},
   "outputs": [],
   "source": []
  },
  {
   "cell_type": "code",
   "execution_count": 2,
   "id": "cd6e0c7e",
   "metadata": {},
   "outputs": [
    {
     "data": {
      "text/html": [
       "<div>\n",
       "<style scoped>\n",
       "    .dataframe tbody tr th:only-of-type {\n",
       "        vertical-align: middle;\n",
       "    }\n",
       "\n",
       "    .dataframe tbody tr th {\n",
       "        vertical-align: top;\n",
       "    }\n",
       "\n",
       "    .dataframe thead th {\n",
       "        text-align: right;\n",
       "    }\n",
       "</style>\n",
       "<table border=\"1\" class=\"dataframe\">\n",
       "  <thead>\n",
       "    <tr style=\"text-align: right;\">\n",
       "      <th></th>\n",
       "      <th>SOURCE_SUBREDDIT</th>\n",
       "      <th>TARGET_SUBREDDIT</th>\n",
       "    </tr>\n",
       "  </thead>\n",
       "  <tbody>\n",
       "    <tr>\n",
       "      <th>0</th>\n",
       "      <td>leagueoflegends</td>\n",
       "      <td>teamredditteams</td>\n",
       "    </tr>\n",
       "    <tr>\n",
       "      <th>1</th>\n",
       "      <td>theredlion</td>\n",
       "      <td>soccer</td>\n",
       "    </tr>\n",
       "    <tr>\n",
       "      <th>2</th>\n",
       "      <td>inlandempire</td>\n",
       "      <td>bikela</td>\n",
       "    </tr>\n",
       "    <tr>\n",
       "      <th>3</th>\n",
       "      <td>nfl</td>\n",
       "      <td>cfb</td>\n",
       "    </tr>\n",
       "    <tr>\n",
       "      <th>4</th>\n",
       "      <td>playmygame</td>\n",
       "      <td>gamedev</td>\n",
       "    </tr>\n",
       "  </tbody>\n",
       "</table>\n",
       "</div>"
      ],
      "text/plain": [
       "  SOURCE_SUBREDDIT TARGET_SUBREDDIT\n",
       "0  leagueoflegends  teamredditteams\n",
       "1       theredlion           soccer\n",
       "2     inlandempire           bikela\n",
       "3              nfl              cfb\n",
       "4       playmygame          gamedev"
      ]
     },
     "execution_count": 2,
     "metadata": {},
     "output_type": "execute_result"
    }
   ],
   "source": [
    "# load dataset (reddit social graph)\n",
    "dataset = 'soc-redditHyperlinks-body.tsv' #'large_twitch_edges.csv'\n",
    "\n",
    "data = pd.read_csv(dataset, header = 0, sep = '\\t') \n",
    "data = data[[data.columns[0], data.columns[1]]]\n",
    "data.head()"
   ]
  },
  {
   "cell_type": "code",
   "execution_count": 3,
   "id": "6fb8959e",
   "metadata": {},
   "outputs": [],
   "source": [
    "# Make networkx graph object\n",
    "\n",
    "graph = nx.from_pandas_edgelist(data, data.columns[0], data.columns[1])\n",
    "#graph_directed = nx.from_pandas_edgelist(data, data.columns[0], data.columns[1], create_using = nx.DiGraph)"
   ]
  },
  {
   "cell_type": "code",
   "execution_count": 4,
   "id": "b7f2dabf",
   "metadata": {},
   "outputs": [
    {
     "name": "stdout",
     "output_type": "stream",
     "text": [
      "Number of nodes:  35776\n",
      "Number of edges:  124330\n"
     ]
    }
   ],
   "source": [
    "# graph properties\n",
    "\n",
    "print('Number of nodes: ', graph.number_of_nodes())\n",
    "print('Number of edges: ', graph.number_of_edges())"
   ]
  },
  {
   "cell_type": "code",
   "execution_count": 6,
   "id": "b9011202",
   "metadata": {},
   "outputs": [
    {
     "name": "stdout",
     "output_type": "stream",
     "text": [
      "Number of largest connected components:  497\n",
      "Number of nodes in giant component:  34671\n"
     ]
    }
   ],
   "source": [
    "# Giant component\n",
    "Gcc = sorted(nx.connected_components(graph), key=len, reverse=True)\n",
    "print('Number of largest connected components: ', len(Gcc))\n",
    "\n",
    "giant = graph.subgraph(Gcc[0])\n",
    "print('Number of nodes in giant component: ', giant.number_of_nodes())"
   ]
  },
  {
   "cell_type": "code",
   "execution_count": 7,
   "id": "c9715f1e",
   "metadata": {},
   "outputs": [],
   "source": [
    "data_undi = data.drop_duplicates()"
   ]
  },
  {
   "cell_type": "code",
   "execution_count": 70,
   "id": "728710a7",
   "metadata": {},
   "outputs": [
    {
     "name": "stdout",
     "output_type": "stream",
     "text": [
      "Average Clustering coefficient:  0.18090101843790804\n"
     ]
    }
   ],
   "source": [
    "print('Average Clustering coefficient: ', nx.average_clustering(graph))"
   ]
  },
  {
   "cell_type": "code",
   "execution_count": 13,
   "id": "3f1f7f66",
   "metadata": {},
   "outputs": [
    {
     "name": "stdout",
     "output_type": "stream",
     "text": [
      "landmark  0  calculating...\n"
     ]
    },
    {
     "ename": "TypeError",
     "evalue": "list indices must be integers or slices, not str",
     "output_type": "error",
     "traceback": [
      "\u001b[1;31m---------------------------------------------------------------------------\u001b[0m",
      "\u001b[1;31mTypeError\u001b[0m                                 Traceback (most recent call last)",
      "\u001b[1;32m~\\AppData\\Local\\Temp/ipykernel_20700/2593880082.py\u001b[0m in \u001b[0;36m<module>\u001b[1;34m\u001b[0m\n\u001b[0;32m     14\u001b[0m     \u001b[0mpath_lengths\u001b[0m \u001b[1;33m=\u001b[0m \u001b[0mnx\u001b[0m\u001b[1;33m.\u001b[0m\u001b[0msingle_source_shortest_path_length\u001b[0m\u001b[1;33m(\u001b[0m\u001b[0mgiant\u001b[0m\u001b[1;33m,\u001b[0m \u001b[0mnode\u001b[0m\u001b[1;33m)\u001b[0m\u001b[1;33m\u001b[0m\u001b[1;33m\u001b[0m\u001b[0m\n\u001b[0;32m     15\u001b[0m     \u001b[1;32mfor\u001b[0m \u001b[0mj\u001b[0m \u001b[1;32min\u001b[0m \u001b[0mnodes\u001b[0m\u001b[1;33m:\u001b[0m\u001b[1;33m\u001b[0m\u001b[1;33m\u001b[0m\u001b[0m\n\u001b[1;32m---> 16\u001b[1;33m         \u001b[0mdistance_matrix\u001b[0m\u001b[1;33m[\u001b[0m\u001b[0mi\u001b[0m\u001b[1;33m]\u001b[0m\u001b[1;33m[\u001b[0m\u001b[0mj\u001b[0m\u001b[1;33m]\u001b[0m \u001b[1;33m=\u001b[0m \u001b[0mint\u001b[0m\u001b[1;33m(\u001b[0m\u001b[0mpath_lengths\u001b[0m\u001b[1;33m[\u001b[0m\u001b[0mj\u001b[0m\u001b[1;33m]\u001b[0m\u001b[1;33m)\u001b[0m\u001b[1;33m\u001b[0m\u001b[1;33m\u001b[0m\u001b[0m\n\u001b[0m\u001b[0;32m     17\u001b[0m     \u001b[0mprint\u001b[0m\u001b[1;33m(\u001b[0m\u001b[1;34m\"landmark \"\u001b[0m\u001b[1;33m,\u001b[0m \u001b[0mi\u001b[0m\u001b[1;33m,\u001b[0m\u001b[1;34m\" finished in --- %s seconds ---\"\u001b[0m \u001b[1;33m%\u001b[0m \u001b[1;33m(\u001b[0m\u001b[0mtime\u001b[0m\u001b[1;33m.\u001b[0m\u001b[0mtime\u001b[0m\u001b[1;33m(\u001b[0m\u001b[1;33m)\u001b[0m \u001b[1;33m-\u001b[0m \u001b[0mstart_time\u001b[0m\u001b[1;33m)\u001b[0m\u001b[1;33m)\u001b[0m\u001b[1;33m\u001b[0m\u001b[1;33m\u001b[0m\u001b[0m\n",
      "\u001b[1;31mTypeError\u001b[0m: list indices must be integers or slices, not str"
     ]
    }
   ],
   "source": [
    "# input preparation for Rigel\n",
    "\n",
    "nodes = list(giant.nodes())\n",
    "N = len(nodes)\n",
    "landmark_cnt = 100\n",
    "landmarks = sample(nodes, landmark_cnt)  #here a landmark selection strategy could be introduced\n",
    "distance_matrix = [[-1 for i in range(N)] for j in range(landmark_cnt)]\n",
    "#distance_matrix = dict()\n",
    "for i in range(landmark_cnt):\n",
    "    #distance_matrix[i] = dict()\n",
    "    start_time = time.time()\n",
    "    print('landmark ', i, ' calculating...')\n",
    "    node = landmarks[i]\n",
    "    path_lengths = nx.single_source_shortest_path_length(giant, node)\n",
    "    for j in nodes:\n",
    "        distance_matrix[i][j] = int(path_lengths[j])\n",
    "    print(\"landmark \", i,\" finished in --- %s seconds ---\" % (time.time() - start_time))"
   ]
  },
  {
   "cell_type": "code",
   "execution_count": null,
   "id": "2f8bf154",
   "metadata": {},
   "outputs": [],
   "source": []
  },
  {
   "cell_type": "code",
   "execution_count": null,
   "id": "9f06d84c",
   "metadata": {},
   "outputs": [],
   "source": []
  }
 ],
 "metadata": {
  "kernelspec": {
   "display_name": "Python 3 (ipykernel)",
   "language": "python",
   "name": "python3"
  },
  "language_info": {
   "codemirror_mode": {
    "name": "ipython",
    "version": 3
   },
   "file_extension": ".py",
   "mimetype": "text/x-python",
   "name": "python",
   "nbconvert_exporter": "python",
   "pygments_lexer": "ipython3",
   "version": "3.7.10"
  }
 },
 "nbformat": 4,
 "nbformat_minor": 5
}
