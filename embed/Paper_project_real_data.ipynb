{
 "cells": [
  {
   "cell_type": "markdown",
   "id": "331f3693",
   "metadata": {},
   "source": [
    "## Dataset preparation\n",
    "#### basic metrics calculation"
   ]
  },
  {
   "cell_type": "code",
   "execution_count": 16,
   "id": "f6e74db3",
   "metadata": {},
   "outputs": [],
   "source": [
    "# imports\n",
    "\n",
    "import pandas as pd\n",
    "import numpy as np\n",
    "import networkx as nx\n",
    "from random import sample\n",
    "import time\n",
    "import matplotlib.pyplot as plt\n",
    "import pickle"
   ]
  },
  {
   "cell_type": "code",
   "execution_count": 45,
   "id": "cd6e0c7e",
   "metadata": {},
   "outputs": [
    {
     "data": {
      "text/html": [
       "<div>\n",
       "<style scoped>\n",
       "    .dataframe tbody tr th:only-of-type {\n",
       "        vertical-align: middle;\n",
       "    }\n",
       "\n",
       "    .dataframe tbody tr th {\n",
       "        vertical-align: top;\n",
       "    }\n",
       "\n",
       "    .dataframe thead th {\n",
       "        text-align: right;\n",
       "    }\n",
       "</style>\n",
       "<table border=\"1\" class=\"dataframe\">\n",
       "  <thead>\n",
       "    <tr style=\"text-align: right;\">\n",
       "      <th></th>\n",
       "      <th>node_1</th>\n",
       "      <th>node_2</th>\n",
       "    </tr>\n",
       "  </thead>\n",
       "  <tbody>\n",
       "    <tr>\n",
       "      <th>0</th>\n",
       "      <td>0</td>\n",
       "      <td>24208</td>\n",
       "    </tr>\n",
       "    <tr>\n",
       "      <th>1</th>\n",
       "      <td>0</td>\n",
       "      <td>24445</td>\n",
       "    </tr>\n",
       "    <tr>\n",
       "      <th>2</th>\n",
       "      <td>0</td>\n",
       "      <td>18055</td>\n",
       "    </tr>\n",
       "    <tr>\n",
       "      <th>3</th>\n",
       "      <td>0</td>\n",
       "      <td>26575</td>\n",
       "    </tr>\n",
       "    <tr>\n",
       "      <th>4</th>\n",
       "      <td>0</td>\n",
       "      <td>12596</td>\n",
       "    </tr>\n",
       "  </tbody>\n",
       "</table>\n",
       "</div>"
      ],
      "text/plain": [
       "   node_1  node_2\n",
       "0       0   24208\n",
       "1       0   24445\n",
       "2       0   18055\n",
       "3       0   26575\n",
       "4       0   12596"
      ]
     },
     "execution_count": 45,
     "metadata": {},
     "output_type": "execute_result"
    }
   ],
   "source": [
    "# load dataset (reddit social graph)\n",
    "dataset = 'HU_edges.csv'\n",
    "\n",
    "data = pd.read_csv(dataset, header = 0, sep = ',') \n",
    "data = data[[data.columns[0], data.columns[1]]]\n",
    "data.head()"
   ]
  },
  {
   "cell_type": "code",
   "execution_count": 47,
   "id": "6fb8959e",
   "metadata": {},
   "outputs": [],
   "source": [
    "# Make networkx graph object\n",
    "\n",
    "graph = nx.from_pandas_edgelist(data, data.columns[0], data.columns[1])"
   ]
  },
  {
   "cell_type": "code",
   "execution_count": 48,
   "id": "b7f2dabf",
   "metadata": {},
   "outputs": [
    {
     "name": "stdout",
     "output_type": "stream",
     "text": [
      "Number of nodes:  47538\n",
      "Number of edges:  222887\n"
     ]
    }
   ],
   "source": [
    "# graph properties\n",
    "\n",
    "print('Number of nodes: ', graph.number_of_nodes())\n",
    "print('Number of edges: ', graph.number_of_edges())"
   ]
  },
  {
   "cell_type": "code",
   "execution_count": 49,
   "id": "b9011202",
   "metadata": {},
   "outputs": [
    {
     "name": "stdout",
     "output_type": "stream",
     "text": [
      "Number of largest connected components:  1\n",
      "Number of nodes in giant component:  47538\n"
     ]
    }
   ],
   "source": [
    "# Giant component\n",
    "Gcc = sorted(nx.connected_components(graph), key=len, reverse=True)\n",
    "print('Number of largest connected components: ', len(Gcc))\n",
    "\n",
    "giant = graph.subgraph(Gcc[0])\n",
    "print('Number of nodes in giant component: ', giant.number_of_nodes())"
   ]
  },
  {
   "cell_type": "code",
   "execution_count": 36,
   "id": "728710a7",
   "metadata": {},
   "outputs": [
    {
     "name": "stdout",
     "output_type": "stream",
     "text": [
      "Average Clustering coefficient:  0.11618722661249824\n"
     ]
    }
   ],
   "source": [
    "print('Average Clustering coefficient: ', nx.average_clustering(graph))"
   ]
  },
  {
   "cell_type": "code",
   "execution_count": 50,
   "id": "c886a174",
   "metadata": {},
   "outputs": [
    {
     "data": {
      "image/png": "[encoded data removed]",
      "text/plain": [
       "<Figure size 432x288 with 1 Axes>"
      ]
     },
     "metadata": {
      "needs_background": "light"
     },
     "output_type": "display_data"
    }
   ],
   "source": [
    "degrees = [giant.degree(n) for n in giant.nodes()]\n",
    "plt.hist(degrees, bins = 50)\n",
    "plt.yscale('log')\n",
    "plt.title('Degree distribution')\n",
    "plt.ylabel('occurance (log)')\n",
    "plt.xlabel('degree')\n",
    "plt.show()"
   ]
  },
  {
   "cell_type": "code",
   "execution_count": 44,
   "id": "d4dfb721",
   "metadata": {},
   "outputs": [],
   "source": [
    "# save data for later reuse (plotting)\n",
    "with open('deezer_degrees.pickle', 'wb') as handle:\n",
    "    pickle.dump(degrees, handle)"
   ]
  },
  {
   "cell_type": "markdown",
   "id": "8a3ae2b3",
   "metadata": {},
   "source": [
    "### Input preparation for Rigel"
   ]
  },
  {
   "cell_type": "code",
   "execution_count": 7,
   "id": "3f1f7f66",
   "metadata": {
    "scrolled": true
   },
   "outputs": [
    {
     "name": "stdout",
     "output_type": "stream",
     "text": [
      "Landmark BFSs finished in 54.30251455307007 seconds \n"
     ]
    }
   ],
   "source": [
    "# input preparation for Rigel\n",
    "np.random.seed(1337)\n",
    "nodes = list(giant.nodes())\n",
    "N = len(nodes)\n",
    "landmark_cnt = 100\n",
    "landmarks = sample(nodes, landmark_cnt)  #here a landmark selection strategy could be introduced\n",
    "landmark_indices = [nodes.index(lm) for lm in landmarks]\n",
    "distance_matrix = {j:dict() for j in landmarks}\n",
    "#distance_matrix = dict()\n",
    "start_time = time.time()\n",
    "for i in landmarks:\n",
    "    #distance_matrix[i] = dict()\n",
    "    #print('landmark ', i, ' calculating...')\n",
    "    path_lengths = nx.single_source_shortest_path_length(giant, i)\n",
    "    for j in nodes:\n",
    "        distance_matrix[i][j] = int(path_lengths[j])\n",
    "    #print(\"landmark \", i,\" finished in %s seconds \" % (time.time() - start_time))\n",
    "print(\"Landmark BFSs finished in %s seconds \" % (time.time() - start_time))"
   ]
  },
  {
   "cell_type": "code",
   "execution_count": 8,
   "id": "2f8bf154",
   "metadata": {},
   "outputs": [],
   "source": [
    "with open('l_deezer.txt', 'w') as f:\n",
    "    for i in distance_matrix.keys():\n",
    "        nested_list = [str(j) for j in list(distance_matrix[i].values())]\n",
    "        f.writelines('\\t'.join(nested_list) + '\\n')\n",
    "f.close()"
   ]
  },
  {
   "cell_type": "code",
   "execution_count": 9,
   "id": "9f06d84c",
   "metadata": {},
   "outputs": [],
   "source": [
    "with open('r_deezer.txt', 'w') as f:\n",
    "    for node in landmark_indices:\n",
    "        f.write('%s\\n' % node)\n",
    "f.close()"
   ]
  },
  {
   "cell_type": "code",
   "execution_count": 10,
   "id": "a9d52ec3",
   "metadata": {},
   "outputs": [],
   "source": [
    "with open('0_deezer.ord', 'w') as f:\n",
    "    for i in range(N):\n",
    "        if not i in landmark_indices:\n",
    "            f.write('%s\\n' % i)\n",
    "f.close()"
   ]
  },
  {
   "cell_type": "code",
   "execution_count": 39,
   "id": "3156033c",
   "metadata": {},
   "outputs": [
    {
     "data": {
      "text/plain": [
       "47538"
      ]
     },
     "execution_count": 39,
     "metadata": {},
     "output_type": "execute_result"
    }
   ],
   "source": [
    "len(nodes)"
   ]
  },
  {
   "cell_type": "code",
   "execution_count": null,
   "id": "e9a209f0",
   "metadata": {},
   "outputs": [],
   "source": []
  },
  {
   "cell_type": "code",
   "execution_count": null,
   "id": "21716dac",
   "metadata": {},
   "outputs": [],
   "source": []
  },
  {
   "cell_type": "code",
   "execution_count": null,
   "id": "e3f8dedb",
   "metadata": {},
   "outputs": [],
   "source": []
  },
  {
   "cell_type": "code",
   "execution_count": null,
   "id": "f88d15bc",
   "metadata": {},
   "outputs": [],
   "source": []
  },
  {
   "cell_type": "code",
   "execution_count": null,
   "id": "b4bf2dbf",
   "metadata": {},
   "outputs": [],
   "source": []
  },
  {
   "cell_type": "code",
   "execution_count": null,
   "id": "0503120f",
   "metadata": {},
   "outputs": [],
   "source": []
  }
 ],
 "metadata": {
  "kernelspec": {
   "display_name": "Python 3 (ipykernel)",
   "language": "python",
   "name": "python3"
  },
  "language_info": {
   "codemirror_mode": {
    "name": "ipython",
    "version": 3
   },
   "file_extension": ".py",
   "mimetype": "text/x-python",
   "name": "python",
   "nbconvert_exporter": "python",
   "pygments_lexer": "ipython3",
   "version": "3.7.10"
  }
 },
 "nbformat": 4,
 "nbformat_minor": 5
}
