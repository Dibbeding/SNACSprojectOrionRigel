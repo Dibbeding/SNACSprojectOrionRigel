{
 "cells": [
  {
   "cell_type": "markdown",
   "id": "8aa62108",
   "metadata": {},
   "source": [
    "## Output data preparation for dataset Deezer\n",
    "#### Plots and figures in separate notebook"
   ]
  },
  {
   "cell_type": "code",
   "execution_count": 1,
   "id": "7778aa3d",
   "metadata": {},
   "outputs": [],
   "source": [
    "# IMPORTS\n",
    "import matplotlib.pyplot as plt\n",
    "import numpy as np\n",
    "import csv \n",
    "import networkx as nx\n",
    "from random import sample\n",
    "import time\n",
    "import math\n",
    "import random\n",
    "import scipy\n",
    "import pandas as pd"
   ]
  },
  {
   "cell_type": "code",
   "execution_count": 2,
   "id": "3ca682c4",
   "metadata": {},
   "outputs": [],
   "source": [
    "# Define necessary functions\n",
    "\n",
    "def arccosh_og(x):  ##note that x*x-1 might be less than zero :( And then log(t) could be negative (negative distance?!?!?!?!)\n",
    "    t = x + math.sqrt(x * x - 1)\n",
    "    return math.log(t)\n",
    "\n",
    "def arccosh(x):\n",
    "    t = x + math.sqrt(max(x * x, 1) - 1)\n",
    "    return max(math.log(t), 0.5)\n",
    "    \n",
    "def query(coordinates, source, destination, curvature):\n",
    "    \n",
    "    if source == destination:\n",
    "        return 0\n",
    "    \n",
    "    sourceCoords = coordinates[source]\n",
    "    destinationCoords = coordinates[destination]\n",
    "\n",
    "    i = 0\n",
    "    ts = 1.0\n",
    "    td = 1.0\n",
    "    tt = 1.0\n",
    "\n",
    "    for i in range(len(sourceCoords)):\n",
    "        ts += math.pow(sourceCoords[i], 2)\n",
    "        td += math.pow(destinationCoords[i], 2)\n",
    "        tt += (sourceCoords[i] * destinationCoords[i])\n",
    "    #print(ts, td, tt)\n",
    "    t = math.sqrt(ts * td) - tt\n",
    "    #print('t:', t)\n",
    "    return arccosh(t) * math.fabs(curvature)\n",
    "\n",
    "def intersection_similarity(u,v):\n",
    "    return len(set(u).intersection(set(v)))\n",
    "\n",
    "def weighted_intersection_similarity(u,v, alpha):\n",
    "    similarity = 0\n",
    "    if len(u)==len(v):\n",
    "        n = len(u)\n",
    "        for i in range(n):\n",
    "            if u[i] in v:\n",
    "                j = v.index(u[i])\n",
    "                similarity += (n-abs(i-j))**alpha\n",
    "                \n",
    "    else:\n",
    "        print('not equal vector lengths')\n",
    "        similarity = -1\n",
    "        \n",
    "    return similarity"
   ]
  },
  {
   "cell_type": "code",
   "execution_count": 3,
   "id": "ebc3de73",
   "metadata": {},
   "outputs": [],
   "source": [
    "# READ REAL NETWORK - Giant Connected Component\n",
    "\n",
    "dataset = 'HU_edges.csv'\n",
    "\n",
    "data = pd.read_csv(dataset, header = 0, sep = ',') \n",
    "data = data[[data.columns[0], data.columns[1]]]\n",
    "data.head()\n",
    "\n",
    "graph = nx.from_pandas_edgelist(data, data.columns[0], data.columns[1])\n",
    "Gcc = sorted(nx.connected_components(graph), key=len, reverse=True)\n",
    "giant = graph.subgraph(Gcc[0])"
   ]
  },
  {
   "cell_type": "code",
   "execution_count": 4,
   "id": "ab681629",
   "metadata": {},
   "outputs": [],
   "source": [
    "# SPECIFY THESE INPUTS\n",
    "\n",
    "output_file_name = 'deezer/out'\n",
    "partitions = 1\n",
    "curvature = -1\n",
    "number_of_nodes = 47538\n",
    "\n",
    "#######################\n",
    "\n",
    "\n",
    "landFile = output_file_name + '.land'\n",
    "coordFiles = [output_file_name + str(i) + '.coord' for i in range(partitions)]\n",
    "\n",
    "coordinates = dict()\n",
    "with open(landFile) as infile:\n",
    "    for line in infile:\n",
    "        linesplit = line.split()\n",
    "        id = int(linesplit[0])\n",
    "        coords = [float(c) for c in linesplit[1:]]\n",
    "        coordinates[id] = coords\n",
    "\n",
    "for coordFile in coordFiles:\n",
    "    with open(coordFile) as infile:\n",
    "        for line in infile:\n",
    "            linesplit = line.split()\n",
    "            id = int(linesplit[0])\n",
    "            coords = [float(c) for c in linesplit[1:]]\n",
    "            coordinates[id] = coords\n",
    "\n",
    "#while True:\n",
    "#    query_input = input(\"Enter ID of 2 nodes: \")\n",
    "        \n",
    "#    if query_input == 'exit' or query_input == 'q' or query_input == 'quit':\n",
    "       # break\n",
    "\n",
    "#    querysplit = query_input.split()\n",
    "#    source = int(querysplit[0])\n",
    "#    destination = int(querysplit[1])\n",
    "\n",
    "#    estimate = query(coordinates, source, destination, curvature)\n",
    "#    print('Rigel estimates the distance between %d and %d to be %f.\\n' % (source, destination, estimate))\n"
   ]
  },
  {
   "cell_type": "code",
   "execution_count": 20,
   "id": "e26d3cc2",
   "metadata": {},
   "outputs": [
    {
     "name": "stdout",
     "output_type": "stream",
     "text": [
      "START OF SEED 0 .\n",
      "Processed  10.0 % of total calculations...\n",
      "Processed  20.0 % of total calculations...\n",
      "Processed  30.0 % of total calculations...\n",
      "Processed  40.0 % of total calculations...\n",
      "Processed  50.0 % of total calculations...\n",
      "Processed  60.0 % of total calculations...\n",
      "Processed  70.0 % of total calculations...\n",
      "Processed  80.0 % of total calculations...\n",
      "Processed  90.0 % of total calculations...\n",
      "Processed  100.0 % of total calculations...\n",
      "START OF SEED 1 .\n",
      "Processed  10.0 % of total calculations...\n",
      "Processed  20.0 % of total calculations...\n",
      "Processed  30.0 % of total calculations...\n",
      "Processed  40.0 % of total calculations...\n",
      "Processed  50.0 % of total calculations...\n",
      "Processed  60.0 % of total calculations...\n",
      "Processed  70.0 % of total calculations...\n",
      "Processed  80.0 % of total calculations...\n",
      "Processed  90.0 % of total calculations...\n",
      "Processed  100.0 % of total calculations...\n",
      "START OF SEED 2 .\n",
      "Processed  10.0 % of total calculations...\n",
      "Processed  20.0 % of total calculations...\n",
      "Processed  30.0 % of total calculations...\n",
      "Processed  40.0 % of total calculations...\n",
      "Processed  50.0 % of total calculations...\n",
      "Processed  60.0 % of total calculations...\n",
      "Processed  70.0 % of total calculations...\n",
      "Processed  80.0 % of total calculations...\n",
      "Processed  90.0 % of total calculations...\n",
      "Processed  100.0 % of total calculations...\n",
      "START OF SEED 3 .\n",
      "Processed  10.0 % of total calculations...\n",
      "Processed  20.0 % of total calculations...\n",
      "Processed  30.0 % of total calculations...\n",
      "Processed  40.0 % of total calculations...\n",
      "Processed  50.0 % of total calculations...\n",
      "Processed  60.0 % of total calculations...\n",
      "Processed  70.0 % of total calculations...\n",
      "Processed  80.0 % of total calculations...\n",
      "Processed  90.0 % of total calculations...\n",
      "Processed  100.0 % of total calculations...\n",
      "START OF SEED 4 .\n",
      "Processed  10.0 % of total calculations...\n",
      "Processed  20.0 % of total calculations...\n",
      "Processed  30.0 % of total calculations...\n",
      "Processed  40.0 % of total calculations...\n",
      "Processed  50.0 % of total calculations...\n",
      "Processed  60.0 % of total calculations...\n",
      "Processed  70.0 % of total calculations...\n",
      "Processed  80.0 % of total calculations...\n",
      "Processed  90.0 % of total calculations...\n",
      "Processed  100.0 % of total calculations...\n"
     ]
    }
   ],
   "source": [
    "# Relative errors - approximation: select 'select_count = 1000'  nodes from where distances (to all nodes) are calculated\n",
    "### This is necessary due to slow EXACT path calculation\n",
    "\n",
    "result_avg_path_length_estimated = []\n",
    "result_avg_path_length_exact = []\n",
    "result_radius_estimated = []\n",
    "result_radius_exact = []\n",
    "result_diameter_estimated = []\n",
    "result_diameter_exact = []\n",
    "top_cent_exact = []\n",
    "top_cent_estimate = []\n",
    "top_ecc_exact = []\n",
    "top_ecc_estimate = []\n",
    "\n",
    "\n",
    "for sed in range(5):\n",
    "    print('START OF SEED', sed, '.')\n",
    "    np.random.seed(sed)\n",
    "\n",
    "    select_count = 1000\n",
    "    selected_nodes = random.sample(range(number_of_nodes), select_count)\n",
    "\n",
    "    relative_errors = dict()\n",
    "    exact_distances = dict()\n",
    "    estimated_distances= dict()\n",
    "\n",
    "    avg_path_length_exact = 0\n",
    "    avg_path_length_estimated = 0\n",
    "    radius_estimated = number_of_nodes\n",
    "    diameter_estimated = 0\n",
    "    radius_exact = number_of_nodes\n",
    "    diameter_exact = 0\n",
    "    eccentricites_estimated = []\n",
    "    eccentricites_exact  =[]\n",
    "    centralities_exact = []\n",
    "    centralities_estimated = []\n",
    "\n",
    "\n",
    "    node_names = list(giant.nodes())\n",
    "\n",
    "    iters = 0\n",
    "\n",
    "    for source in selected_nodes:\n",
    "        iters += 1\n",
    "        if iters % int(select_count/10) == 0:\n",
    "            print('Processed ', 10 * iters / int(select_count/10), '% of total calculations...')\n",
    "\n",
    "        eccentricity_curr_est = 0\n",
    "        eccentricity_curr_ex = 0\n",
    "        exact_distances[source] = []\n",
    "        estimated_distances[source] = []\n",
    "        relative_errors[source] = []\n",
    "        for target in selected_nodes:\n",
    "            #print('points:', source, target)\n",
    "            if source != target:\n",
    "                estimate = query(coordinates, source, target, curvature)\n",
    "                exact = nx.shortest_path_length(giant, node_names[source], node_names[target])\n",
    "                avg_path_length_estimated += estimate\n",
    "                avg_path_length_exact += exact\n",
    "                eccentricity_curr_est = max(eccentricity_curr_est, estimate)\n",
    "                diameter_estimated = max(diameter_estimated, estimate)\n",
    "                eccentricity_curr_ex = max(eccentricity_curr_ex,exact)\n",
    "                diameter_exact = max(diameter_exact,exact)\n",
    "                relative_errors[source].append(abs(estimate-exact)/exact)\n",
    "                exact_distances[source].append(exact)\n",
    "                estimated_distances[source].append(estimate)\n",
    "            else:\n",
    "                relative_errors[source].append(0)\n",
    "                exact_distances[source].append(0)\n",
    "                estimated_distances[source].append(0)\n",
    "        radius_estimated = min(eccentricity_curr_est, radius_estimated)\n",
    "        radius_exact = min(eccentricity_curr_ex, radius_exact)\n",
    "        eccentricites_estimated.append(0-eccentricity_curr_est)\n",
    "        eccentricites_exact.append(0-eccentricity_curr_ex)\n",
    "        centralities_exact.append(0-np.mean(list(exact_distances.values())))\n",
    "        centralities_estimated.append(0-np.mean(list(estimated_distances.values())))\n",
    "\n",
    "    avg_path_length_estimated = avg_path_length_estimated / (select_count * (select_count - 1) )\n",
    "    avg_path_length_exact = avg_path_length_exact / (select_count * (select_count - 1) )\n",
    "    \n",
    "    result_avg_path_length_estimated.append(avg_path_length_estimated)\n",
    "    result_avg_path_length_exact.append(avg_path_length_exact)\n",
    "    result_radius_estimated.append(radius_estimated)\n",
    "    result_radius_exact.append(radius_exact)\n",
    "    result_diameter_estimated.append(diameter_estimated)\n",
    "    result_diameter_exact.append(diameter_exact)\n",
    "\n",
    "    ind = np.argpartition(centralities_exact, -80)[-80:]\n",
    "    top_cent_exact.append(ind[np.argsort(np.array(centralities_exact)[ind])])\n",
    "    ind = np.argpartition(centralities_estimated, -80)[-80:]\n",
    "    top_cent_estimate.append(ind[np.argsort(np.array(centralities_estimated)[ind])])\n",
    "    ind = np.argpartition(eccentricites_exact, -80)[-80:]\n",
    "    top_ecc_exact.append(ind[np.argsort(np.array(eccentricites_exact)[ind])])\n",
    "    ind = np.argpartition(eccentricites_estimated, -80)[-80:]\n",
    "    top_ecc_estimate.append(ind[np.argsort(np.array(eccentricites_estimated)[ind])])"
   ]
  },
  {
   "cell_type": "code",
   "execution_count": 44,
   "id": "1139cf46",
   "metadata": {},
   "outputs": [
    {
     "name": "stdout",
     "output_type": "stream",
     "text": [
      "0.02757152003876004\n",
      "0.020520044604945352\n",
      "0.35240489184425916\n",
      "0.0\n",
      "0.5022281605428819\n",
      "0.8\n"
     ]
    }
   ],
   "source": [
    "#ESTIMATIONs:\n",
    "print(np.std(result_avg_path_length_estimated))\n",
    "print(np.std(result_avg_path_length_exact))\n",
    "print(np.std(result_radius_estimated))\n",
    "print(np.std(result_radius_exact))\n",
    "print(np.std(result_diameter_estimated))\n",
    "print(np.std(result_diameter_exact))"
   ]
  },
  {
   "cell_type": "code",
   "execution_count": 21,
   "id": "2fc541c3",
   "metadata": {},
   "outputs": [],
   "source": [
    "# Average similarity calculations\n",
    "avg_wsims_c = []\n",
    "avg_wsims_e = []\n",
    "avg_sims_c = []\n",
    "avg_sims_e = []\n",
    "for j in [10,20,30,40,50,60,70,80]:\n",
    "    swc = 0\n",
    "    swe = 0\n",
    "    sc = 0\n",
    "    se = 0\n",
    "    for i in range(5):\n",
    "        swc += weighted_intersection_similarity(list(top_cent_estimate[i][-j:]),list(top_cent_exact[i][-j:]),1)\n",
    "        swe += weighted_intersection_similarity(list(top_ecc_estimate[i][-j:]),list(top_ecc_exact[i][-j:]),1)\n",
    "        sc += intersection_similarity(list(top_cent_estimate[i][-j:]),list(top_cent_exact[i][-j:]))\n",
    "        se += intersection_similarity(list(top_ecc_estimate[i][-j:]),list(top_ecc_exact[i][-j:]))\n",
    "    avg_wsims_c.append(swc/5.0/j)\n",
    "    avg_wsims_e.append(swe/5.0/j)\n",
    "    avg_sims_c.append(sc/5.0/j)\n",
    "    avg_sims_e.append(se/5.0/j)"
   ]
  },
  {
   "cell_type": "code",
   "execution_count": 22,
   "id": "f58b9371",
   "metadata": {},
   "outputs": [
    {
     "data": {
      "image/png": "[encoded data removed]",
      "text/plain": [
       "<Figure size 432x288 with 1 Axes>"
      ]
     },
     "metadata": {
      "needs_background": "light"
     },
     "output_type": "display_data"
    }
   ],
   "source": [
    "plt.plot([10,20,30,40,50,60,70,80],avg_sims_c, 'x-', label = 'closeness')\n",
    "plt.plot([10,20,30,40,50,60,70,80],avg_sims_e, 'x-', label = 'eccentricity')\n",
    "plt.title('Deezer - Similarity of top nodes', fontsize = 15)\n",
    "plt.xlabel('top k')\n",
    "plt.ylabel('similarity')\n",
    "plt.legend()\n",
    "plt.show()"
   ]
  },
  {
   "cell_type": "code",
   "execution_count": 24,
   "id": "263a715d",
   "metadata": {},
   "outputs": [],
   "source": [
    "# save data for reuse (plotting)\n",
    "with open('deezer_tops_c.pickle', 'wb') as handle:\n",
    "    pickle.dump(avg_sims_c, handle)\n",
    "    \n",
    "with open('deezer_tops_e.pickle', 'wb') as handle:\n",
    "    pickle.dump(avg_sims_e, handle)\n",
    "\n",
    "with open('deezer_diam_ex.pickle', 'wb') as handle:\n",
    "    pickle.dump(result_diameter_exact, handle)"
   ]
  },
  {
   "cell_type": "code",
   "execution_count": 23,
   "id": "f1f2cde6",
   "metadata": {},
   "outputs": [
    {
     "name": "stdout",
     "output_type": "stream",
     "text": [
      "Weighted Centrality similarity of top 20:  2461\n",
      "Weighted Eccentricity similarity of top 20:  879\n",
      "Centrality similarity of top 20:  34\n",
      "Eccentricity similarity of top 20:  15\n",
      "Weighted Centrality similarity of top 20:  2079\n",
      "Weighted Eccentricity similarity of top 20:  504\n",
      "Centrality similarity of top 20:  35\n",
      "Eccentricity similarity of top 20:  10\n",
      "Weighted Centrality similarity of top 20:  2816\n",
      "Weighted Eccentricity similarity of top 20:  832\n",
      "Centrality similarity of top 20:  44\n",
      "Eccentricity similarity of top 20:  16\n",
      "Weighted Centrality similarity of top 20:  4682\n",
      "Weighted Eccentricity similarity of top 20:  1445\n",
      "Centrality similarity of top 20:  72\n",
      "Eccentricity similarity of top 20:  25\n",
      "Weighted Centrality similarity of top 20:  3518\n",
      "Weighted Eccentricity similarity of top 20:  1176\n",
      "Centrality similarity of top 20:  53\n",
      "Eccentricity similarity of top 20:  21\n"
     ]
    }
   ],
   "source": [
    "# similarity measures - in detail\n",
    "for i in range(5):\n",
    "    print('Weighted Centrality similarity of top 20: ', weighted_intersection_similarity(list(top_cent_estimate[i]),list(top_cent_exact[i]),1))\n",
    "    print('Weighted Eccentricity similarity of top 20: ', weighted_intersection_similarity(list(top_ecc_estimate[i]),list(top_ecc_exact[i]),1))\n",
    "    print('Centrality similarity of top 20: ', intersection_similarity(list(top_cent_estimate[i]),list(top_cent_exact[i])))\n",
    "    print('Eccentricity similarity of top 20: ', intersection_similarity(list(top_ecc_estimate[i]),list(top_ecc_exact[i])))"
   ]
  },
  {
   "cell_type": "code",
   "execution_count": 17,
   "id": "3c84bb5a",
   "metadata": {},
   "outputs": [
    {
     "name": "stdout",
     "output_type": "stream",
     "text": [
      "Weighted Centrality similarity of top 20:  54\n",
      "Weighted Eccentricity similarity of top 20:  848\n",
      "Centrality similarity of top 20:  5\n",
      "Eccentricity similarity of top 20:  15\n",
      "Weighted Centrality similarity of top 20:  128\n",
      "Weighted Eccentricity similarity of top 20:  1410\n",
      "Centrality similarity of top 20:  8\n",
      "Eccentricity similarity of top 20:  25\n",
      "Weighted Centrality similarity of top 20:  177\n",
      "Weighted Eccentricity similarity of top 20:  857\n",
      "Centrality similarity of top 20:  10\n",
      "Eccentricity similarity of top 20:  15\n",
      "Weighted Centrality similarity of top 20:  180\n",
      "Weighted Eccentricity similarity of top 20:  1072\n",
      "Centrality similarity of top 20:  10\n",
      "Eccentricity similarity of top 20:  18\n",
      "Weighted Centrality similarity of top 20:  115\n",
      "Weighted Eccentricity similarity of top 20:  575\n",
      "Centrality similarity of top 20:  8\n",
      "Eccentricity similarity of top 20:  10\n"
     ]
    }
   ],
   "source": [
    "# similarity measure - top j nodes\n",
    "j= 20 \n",
    "for i in range(5):\n",
    "    print('Weighted Centrality similarity of top 20: ', weighted_intersection_similarity(list(top_cent_estimate[i][-j:]),list(top_cent_exact[i][-j:]),1))\n",
    "    print('Weighted Eccentricity similarity of top 20: ', weighted_intersection_similarity(list(top_ecc_estimate[i]),list(top_ecc_exact[i]),1))\n",
    "    print('Centrality similarity of top 20: ', intersection_similarity(list(top_cent_estimate[i][-j:]),list(top_cent_exact[i][-j:])))\n",
    "    print('Eccentricity similarity of top 20: ', intersection_similarity(list(top_ecc_estimate[i]),list(top_ecc_exact[i])))"
   ]
  },
  {
   "cell_type": "code",
   "execution_count": 9,
   "id": "f7376a77",
   "metadata": {},
   "outputs": [
    {
     "name": "stdout",
     "output_type": "stream",
     "text": [
      "Relative error (approximated):  0.1551020645693625\n"
     ]
    }
   ],
   "source": [
    "#Average relative error of last selection\n",
    "ARE_per_source = [np.mean(relative_errors[node]) for node in relative_errors.keys()]\n",
    "ARE_total = np.mean(ARE_per_source)\n",
    "print('Relative error (approximated): ', ARE_total)"
   ]
  },
  {
   "cell_type": "code",
   "execution_count": 7,
   "id": "dccc53a3",
   "metadata": {},
   "outputs": [
    {
     "data": {
      "image/png": "[encoded data removed]",
      "text/plain": [
       "<Figure size 432x288 with 1 Axes>"
      ]
     },
     "metadata": {
      "needs_background": "light"
     },
     "output_type": "display_data"
    },
    {
     "data": {
      "image/png": "[encoded data removed]",
      "text/plain": [
       "<Figure size 432x288 with 1 Axes>"
      ]
     },
     "metadata": {
      "needs_background": "light"
     },
     "output_type": "display_data"
    }
   ],
   "source": [
    "# distribution of relative error in total (last selection)\n",
    "\n",
    "relative_errors_total = []\n",
    "for source in relative_errors.keys():\n",
    "    relative_errors_total += relative_errors[source]\n",
    "    #print(source, ': ' ,min(relative_errors[source]))\n",
    "\n",
    "plt.hist(relative_errors_total, bins = 100)\n",
    "plt.title('RE distribution')\n",
    "plt.xlabel('RE')\n",
    "plt.ylabel('#occurance')\n",
    "plt.show()\n",
    "\n",
    "plt.hist([relative_errors_total[i] for i in range(len(relative_errors_total)) if (relative_errors_total[i] < 1.0 and relative_errors_total[i] > 0.0)], bins = 100)\n",
    "plt.title('RE distribution - in [0,1]')\n",
    "plt.xlabel('RE')\n",
    "plt.ylabel('#occurance')\n",
    "plt.show()"
   ]
  },
  {
   "cell_type": "code",
   "execution_count": 57,
   "id": "4b9dd3fb",
   "metadata": {},
   "outputs": [],
   "source": [
    "# save data for later reuse (figures)\n",
    "with open('deezer_erdist.pickle', 'wb') as handle:\n",
    "    pickle.dump([relative_errors_total[i] for i in range(len(relative_errors_total)) if (relative_errors_total[i] < 1.0 and relative_errors_total[i] > 0.0)], handle)\n",
    "\n",
    "with open('deezer_cdf.pickle', 'wb') as handle:\n",
    "    pickle.dump({'bins': bins_count[1:], 'cdf':cdf }, handle)"
   ]
  },
  {
   "cell_type": "code",
   "execution_count": 55,
   "id": "8ed33625",
   "metadata": {},
   "outputs": [
    {
     "data": {
      "image/png": "[encoded data removed]",
      "text/plain": [
       "<Figure size 432x288 with 1 Axes>"
      ]
     },
     "metadata": {
      "needs_background": "light"
     },
     "output_type": "display_data"
    }
   ],
   "source": [
    "# Cumulative Distribution Function of the Distribution if Relative Errors\n",
    "\n",
    "base = [relative_errors_total[i] for i in range(len(relative_errors_total)) if (relative_errors_total[i] < 1.5 and relative_errors_total[i] > 0.0)]\n",
    "count, bins_count = np.histogram(base, bins=1000)\n",
    "pdf = count / sum(count)\n",
    "cdf = np.cumsum(pdf)\n",
    "plt.plot(bins_count[1:], cdf, label=\"CDF\")\n",
    "plt.title('CDF of Relative Error')\n",
    "plt.xlabel('Relative Error')\n",
    "plt.ylabel('CDF')\n",
    "plt.show()"
   ]
  },
  {
   "cell_type": "code",
   "execution_count": 23,
   "id": "b15ee829",
   "metadata": {},
   "outputs": [
    {
     "name": "stdout",
     "output_type": "stream",
     "text": [
      "Nodes with the highest REs:  [410, 112, 1099, 822, 993, 943, 1564, 1593, 1870, 573]\n",
      "Highest REs: [0.322, 0.322, 0.328, 0.337, 0.346, 0.347, 0.348, 0.363, 0.364, 0.368]\n"
     ]
    }
   ],
   "source": [
    "# Is there any extremely bad node (last selection)\n",
    "\n",
    "bad_nodes = sorted(range(len(ARE_per_source)), key=lambda i: ARE_per_source[i])[-10:]\n",
    "print('Nodes with the highest REs: ', bad_nodes)\n",
    "print('Highest REs:', [round(ARE_per_source[bad_node], 3) for bad_node in bad_nodes])\n",
    "\n"
   ]
  },
  {
   "cell_type": "code",
   "execution_count": null,
   "id": "11b19d65",
   "metadata": {},
   "outputs": [],
   "source": []
  },
  {
   "cell_type": "code",
   "execution_count": null,
   "id": "9283df67",
   "metadata": {},
   "outputs": [],
   "source": []
  },
  {
   "cell_type": "code",
   "execution_count": null,
   "id": "8d15f275",
   "metadata": {},
   "outputs": [],
   "source": []
  },
  {
   "cell_type": "code",
   "execution_count": null,
   "id": "81fb742d",
   "metadata": {},
   "outputs": [],
   "source": []
  },
  {
   "cell_type": "code",
   "execution_count": null,
   "id": "36a2db6e",
   "metadata": {},
   "outputs": [],
   "source": []
  },
  {
   "cell_type": "code",
   "execution_count": null,
   "id": "e52cb99c",
   "metadata": {},
   "outputs": [],
   "source": []
  }
 ],
 "metadata": {
  "kernelspec": {
   "display_name": "Python 3 (ipykernel)",
   "language": "python",
   "name": "python3"
  },
  "language_info": {
   "codemirror_mode": {
    "name": "ipython",
    "version": 3
   },
   "file_extension": ".py",
   "mimetype": "text/x-python",
   "name": "python",
   "nbconvert_exporter": "python",
   "pygments_lexer": "ipython3",
   "version": "3.7.10"
  }
 },
 "nbformat": 4,
 "nbformat_minor": 5
}
