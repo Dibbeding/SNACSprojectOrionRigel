{
 "cells": [
  {
   "cell_type": "code",
   "execution_count": 1,
   "id": "7778aa3d",
   "metadata": {},
   "outputs": [],
   "source": [
    "# IMPORTS\n",
    "import matplotlib.pyplot as plt\n",
    "import numpy as np\n",
    "import csv \n",
    "import networkx as nx\n",
    "from random import sample\n",
    "import time\n",
    "import math\n",
    "import random\n",
    "import scipy\n",
    "import pandas as pd"
   ]
  },
  {
   "cell_type": "code",
   "execution_count": 2,
   "id": "3ca682c4",
   "metadata": {},
   "outputs": [],
   "source": [
    "# Define necessary functions\n",
    "\n",
    "def arccosh_og(x):  ##note that x*x-1 might be less than zero :( And then log(t) could be negative (negative distance?!?!?!?!)\n",
    "    t = x + math.sqrt(x * x - 1)\n",
    "    return math.log(t)\n",
    "\n",
    "def arccosh(x):\n",
    "    t = x + math.sqrt(max(x * x, 1) - 1)\n",
    "    return max(math.log(t), 0.5)\n",
    "    \n",
    "def query(coordinates, source, destination, curvature):\n",
    "    \n",
    "    if source == destination:\n",
    "        return 0\n",
    "    \n",
    "    sourceCoords = coordinates[source]\n",
    "    destinationCoords = coordinates[destination]\n",
    "\n",
    "    i = 0\n",
    "    ts = 1.0\n",
    "    td = 1.0\n",
    "    tt = 1.0\n",
    "\n",
    "    for i in range(len(sourceCoords)):\n",
    "        ts += math.pow(sourceCoords[i], 2)\n",
    "        td += math.pow(destinationCoords[i], 2)\n",
    "        tt += (sourceCoords[i] * destinationCoords[i])\n",
    "    #print(ts, td, tt)\n",
    "    t = math.sqrt(ts * td) - tt\n",
    "    #print('t:', t)\n",
    "    return arccosh(t) * math.fabs(curvature)"
   ]
  },
  {
   "cell_type": "code",
   "execution_count": 3,
   "id": "ebc3de73",
   "metadata": {},
   "outputs": [],
   "source": [
    "# READ REAL NETWORK - GCC\n",
    "\n",
    "dataset = 'soc-redditHyperlinks-body.tsv' #'large_twitch_edges.csv'\n",
    "\n",
    "data = pd.read_csv(dataset, header = 0, sep = '\\t') \n",
    "data = data[[data.columns[0], data.columns[1]]]\n",
    "data.head()\n",
    "\n",
    "graph = nx.from_pandas_edgelist(data, data.columns[0], data.columns[1])\n",
    "Gcc = sorted(nx.connected_components(graph), key=len, reverse=True)\n",
    "giant = graph.subgraph(Gcc[0])"
   ]
  },
  {
   "cell_type": "code",
   "execution_count": 6,
   "id": "ab681629",
   "metadata": {},
   "outputs": [],
   "source": [
    "# SPECIFY THESE INPUTS\n",
    "\n",
    "output_file_name = 'reddit/out'\n",
    "partitions = 1\n",
    "curvature = -1\n",
    "number_of_nodes = 34671\n",
    "\n",
    "#######################\n",
    "\n",
    "\n",
    "landFile = output_file_name + '.land'\n",
    "coordFiles = [output_file_name + str(i) + '.coord' for i in range(partitions)]\n",
    "\n",
    "coordinates = dict()\n",
    "with open(landFile) as infile:\n",
    "    for line in infile:\n",
    "        linesplit = line.split()\n",
    "        id = int(linesplit[0])\n",
    "        coords = [float(c) for c in linesplit[1:]]\n",
    "        coordinates[id] = coords\n",
    "\n",
    "for coordFile in coordFiles:\n",
    "    with open(coordFile) as infile:\n",
    "        for line in infile:\n",
    "            linesplit = line.split()\n",
    "            id = int(linesplit[0])\n",
    "            coords = [float(c) for c in linesplit[1:]]\n",
    "            coordinates[id] = coords\n",
    "\n",
    "#while True:\n",
    "#    query_input = input(\"Enter ID of 2 nodes: \")\n",
    "        \n",
    "#    if query_input == 'exit' or query_input == 'q' or query_input == 'quit':\n",
    "       # break\n",
    "\n",
    "#    querysplit = query_input.split()\n",
    "#    source = int(querysplit[0])\n",
    "#    destination = int(querysplit[1])\n",
    "\n",
    "#    estimate = query(coordinates, source, destination, curvature)\n",
    "#    print('Rigel estimates the distance between %d and %d to be %f.\\n' % (source, destination, estimate))\n"
   ]
  },
  {
   "cell_type": "code",
   "execution_count": 7,
   "id": "e26d3cc2",
   "metadata": {},
   "outputs": [
    {
     "name": "stdout",
     "output_type": "stream",
     "text": [
      "Processed  10.0 % of total calculations...\n",
      "Processed  20.0 % of total calculations...\n",
      "Processed  30.0 % of total calculations...\n",
      "Processed  40.0 % of total calculations...\n",
      "Processed  50.0 % of total calculations...\n",
      "Processed  60.0 % of total calculations...\n",
      "Processed  70.0 % of total calculations...\n",
      "Processed  80.0 % of total calculations...\n",
      "Processed  90.0 % of total calculations...\n",
      "Processed  100.0 % of total calculations...\n"
     ]
    }
   ],
   "source": [
    "# Relative errors - approximation: select 'select_count = 1000'  nodes from where distances (to all nodes) are calculated\n",
    "### This is necessary due to slow EXACT path calculation\n",
    "\n",
    "np.random.seed(0)\n",
    "\n",
    "select_count = 2000\n",
    "selected_nodes = random.sample(range(number_of_nodes), select_count)\n",
    "\n",
    "relative_errors = dict()\n",
    "exact_distances = dict()\n",
    "estimated_distances= dict()\n",
    "\n",
    "avg_path_length_exact = 0\n",
    "avg_path_length_estimated = 0\n",
    "radius_estimated = number_of_nodes\n",
    "diameter_estimated = 0\n",
    "radius_exact = number_of_nodes\n",
    "diameter_exact = 0\n",
    "eccentricites_estimated = []\n",
    "eccentricites_exact  =[]\n",
    "\n",
    "\n",
    "node_names = list(giant.nodes())\n",
    "\n",
    "iters = 0\n",
    "\n",
    "for source in selected_nodes:\n",
    "    iters += 1\n",
    "    if iters % int(select_count/10) == 0:\n",
    "        print('Processed ', 10 * iters / int(select_count/10), '% of total calculations...')\n",
    "    \n",
    "    eccentricity_curr_est = 0\n",
    "    eccentricity_curr_ex = 0\n",
    "    exact_distances[source] = []\n",
    "    estimated_distances[source] = []\n",
    "    relative_errors[source] = []\n",
    "    for target in selected_nodes:\n",
    "        #print('points:', source, target)\n",
    "        if source != target:\n",
    "            estimate = query(coordinates, source, target, curvature)\n",
    "            exact = nx.shortest_path_length(giant, node_names[source], node_names[target])\n",
    "            avg_path_length_estimated += estimate\n",
    "            avg_path_length_exact += exact\n",
    "            eccentricity_curr_est = max(eccentricity_curr_est, estimate)\n",
    "            diameter_estimated = max(diameter_estimated, estimate)\n",
    "            eccentricity_curr_ex = max(eccentricity_curr_ex,exact)\n",
    "            diameter_exact = max(diameter_exact,exact)\n",
    "            relative_errors[source].append(abs(estimate-exact)/exact)\n",
    "            exact_distances[source].append(exact)\n",
    "            estimated_distances[source].append(estimate)\n",
    "        else:\n",
    "            relative_errors[source].append(0)\n",
    "            exact_distances[source].append(0)\n",
    "            estimated_distances[source].append(0)\n",
    "    radius_estimated = min(eccentricity_curr_est, radius_estimated)\n",
    "    radius_exact = min(eccentricity_curr_ex, radius_exact)\n",
    "    eccentricites_estimated.append(eccentricity_curr_est)\n",
    "    eccentricites_exact.append(eccentricity_curr_ex)\n",
    "        \n",
    "avg_path_length_estimated = avg_path_length_estimated / (select_count * (select_count - 1) )\n",
    "avg_path_length_exact = avg_path_length_exact / (select_count * (select_count - 1) )"
   ]
  },
  {
   "cell_type": "code",
   "execution_count": 10,
   "id": "1139cf46",
   "metadata": {},
   "outputs": [
    {
     "name": "stdout",
     "output_type": "stream",
     "text": [
      "3.8473584635326836\n",
      "3.9261185592796397\n",
      "5.742558175051225\n",
      "5\n",
      "10.643588084271189\n",
      "10\n"
     ]
    }
   ],
   "source": [
    "print(avg_path_length_estimated)\n",
    "print(avg_path_length_exact)\n",
    "print(radius_estimated)\n",
    "print(radius_exact)\n",
    "print(diameter_estimated)\n",
    "print(diameter_exact)"
   ]
  },
  {
   "cell_type": "code",
   "execution_count": 11,
   "id": "f7376a77",
   "metadata": {},
   "outputs": [
    {
     "name": "stdout",
     "output_type": "stream",
     "text": [
      "Relative error (approximated):  0.11484524094728989\n"
     ]
    }
   ],
   "source": [
    "ARE_per_source = [np.mean(relative_errors[node]) for node in relative_errors.keys()]\n",
    "ARE_total = np.mean(ARE_per_source)\n",
    "print('Relative error (approximated): ', ARE_total)"
   ]
  },
  {
   "cell_type": "code",
   "execution_count": 12,
   "id": "dccc53a3",
   "metadata": {},
   "outputs": [
    {
     "data": {
      "image/png": "[encoded data removed]",
      "text/plain": [
       "<Figure size 432x288 with 1 Axes>"
      ]
     },
     "metadata": {
      "needs_background": "light"
     },
     "output_type": "display_data"
    },
    {
     "data": {
      "image/png": "[encoded data removed]",
      "text/plain": [
       "<Figure size 432x288 with 1 Axes>"
      ]
     },
     "metadata": {
      "needs_background": "light"
     },
     "output_type": "display_data"
    }
   ],
   "source": [
    "# distribution of relative error in total\n",
    "\n",
    "relative_errors_total = []\n",
    "for source in relative_errors.keys():\n",
    "    relative_errors_total += relative_errors[source]\n",
    "    #print(source, ': ' ,min(relative_errors[source]))\n",
    "\n",
    "plt.hist(relative_errors_total, bins = 100)\n",
    "plt.title('RE distribution')\n",
    "plt.xlabel('RE')\n",
    "plt.ylabel('#occurance')\n",
    "plt.show()\n",
    "\n",
    "plt.hist([relative_errors_total[i] for i in range(len(relative_errors_total)) if (relative_errors_total[i] < 1.0 and relative_errors_total[i] > 0.0)], bins = 100)\n",
    "plt.title('RE distribution - in [0,1]')\n",
    "plt.xlabel('RE')\n",
    "plt.ylabel('#occurance')\n",
    "plt.show()"
   ]
  },
  {
   "cell_type": "code",
   "execution_count": null,
   "id": "4b9dd3fb",
   "metadata": {},
   "outputs": [],
   "source": []
  },
  {
   "cell_type": "code",
   "execution_count": null,
   "id": "06f7b0e9",
   "metadata": {},
   "outputs": [],
   "source": []
  },
  {
   "cell_type": "code",
   "execution_count": 13,
   "id": "8ed33625",
   "metadata": {},
   "outputs": [
    {
     "data": {
      "image/png": "[encoded data removed]",
      "text/plain": [
       "<Figure size 432x288 with 1 Axes>"
      ]
     },
     "metadata": {
      "needs_background": "light"
     },
     "output_type": "display_data"
    }
   ],
   "source": [
    "# Cumulative Distribution Function of the Distribution if Relative Errors\n",
    "\n",
    "base = [relative_errors_total[i] for i in range(len(relative_errors_total)) if (relative_errors_total[i] < 1.5 and relative_errors_total[i] > 0.0)]\n",
    "count, bins_count = np.histogram(base, bins=1000)\n",
    "pdf = count / sum(count)\n",
    "cdf = np.cumsum(pdf)\n",
    "plt.plot(bins_count[1:], cdf, label=\"CDF\")\n",
    "plt.title('CDF of Relative Error')\n",
    "plt.xlabel('Relative Error')\n",
    "plt.ylabel('CDF')\n",
    "plt.show()"
   ]
  },
  {
   "cell_type": "code",
   "execution_count": 14,
   "id": "b15ee829",
   "metadata": {},
   "outputs": [
    {
     "name": "stdout",
     "output_type": "stream",
     "text": [
      "Nodes with the highest REs:  [31, 884, 473, 1905, 474, 1363, 1981, 1125, 754, 1196]\n",
      "Highest REs: [0.171, 0.171, 0.172, 0.173, 0.173, 0.174, 0.175, 0.175, 0.175, 0.213]\n"
     ]
    }
   ],
   "source": [
    "# Is there any extremely bad node???\n",
    "\n",
    "bad_nodes = sorted(range(len(ARE_per_source)), key=lambda i: ARE_per_source[i])[-10:]\n",
    "print('Nodes with the highest REs: ', bad_nodes)\n",
    "print('Highest REs:', [round(ARE_per_source[bad_node], 3) for bad_node in bad_nodes])\n",
    "\n"
   ]
  },
  {
   "cell_type": "code",
   "execution_count": null,
   "id": "11b19d65",
   "metadata": {},
   "outputs": [],
   "source": []
  },
  {
   "cell_type": "code",
   "execution_count": null,
   "id": "9283df67",
   "metadata": {},
   "outputs": [],
   "source": []
  },
  {
   "cell_type": "code",
   "execution_count": null,
   "id": "8d15f275",
   "metadata": {},
   "outputs": [],
   "source": []
  },
  {
   "cell_type": "code",
   "execution_count": null,
   "id": "81fb742d",
   "metadata": {},
   "outputs": [],
   "source": []
  },
  {
   "cell_type": "code",
   "execution_count": null,
   "id": "36a2db6e",
   "metadata": {},
   "outputs": [],
   "source": []
  },
  {
   "cell_type": "code",
   "execution_count": null,
   "id": "e52cb99c",
   "metadata": {},
   "outputs": [],
   "source": []
  }
 ],
 "metadata": {
  "kernelspec": {
   "display_name": "Python 3 (ipykernel)",
   "language": "python",
   "name": "python3"
  },
  "language_info": {
   "codemirror_mode": {
    "name": "ipython",
    "version": 3
   },
   "file_extension": ".py",
   "mimetype": "text/x-python",
   "name": "python",
   "nbconvert_exporter": "python",
   "pygments_lexer": "ipython3",
   "version": "3.7.10"
  }
 },
 "nbformat": 4,
 "nbformat_minor": 5
}
